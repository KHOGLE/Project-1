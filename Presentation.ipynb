{
 "cells": [
  {
   "cell_type": "code",
<<<<<<< HEAD
   "execution_count": 6,
   "metadata": {},
   "outputs": [
    {
     "name": "stdout",
     "output_type": "stream",
     "text": [
      "0    2.965486e+05\n",
      "1    8.843632e+04\n",
      "2    3.778357e+05\n",
      "3    1.553603e+04\n",
      "4    3.682467e+04\n",
      "5   -4.860290e+01\n",
      "6    8.192644e+02\n",
      "7    3.802724e+06\n",
      "8    2.486361e+05\n",
      "9    9.235389e+02\n",
      "dtype: float64\n"
     ]
    },
    {
     "name": "stderr",
     "output_type": "stream",
     "text": [
      "C:\\Users\\camon\\AppData\\Local\\Temp\\ipykernel_2896\\1726658849.py:19: FutureWarning: Dropping of nuisance columns in DataFrame reductions (with 'numeric_only=None') is deprecated; in a future version this will raise TypeError.  Select only valid columns before calling the reduction.\n",
      "  c_deaths_2020_df = covid_2020_df.sum(axis=1)\n"
=======
   "execution_count": 3,
   "metadata": {},
   "outputs": [
    {
     "ename": "ModuleNotFoundError",
     "evalue": "No module named 'numpy'",
     "output_type": "error",
     "traceback": [
      "\u001b[1;31m---------------------------------------------------------------------------\u001b[0m",
      "\u001b[1;31mModuleNotFoundError\u001b[0m                       Traceback (most recent call last)",
      "Cell \u001b[1;32mIn[3], line 1\u001b[0m\n\u001b[1;32m----> 1\u001b[0m \u001b[39mimport\u001b[39;00m \u001b[39mnumpy\u001b[39;00m\n",
      "\u001b[1;31mModuleNotFoundError\u001b[0m: No module named 'numpy'"
>>>>>>> 3813aa8f7750d9cebaecec552cd18288d113d464
     ]
    }
   ],
   "source": [
<<<<<<< HEAD
    "import matplotlib.pyplot as plt\n",
    "import pandas as pd\n",
    "import scipy.stats as st\n",
    "import pprint as pprint\n",
    "\n",
    "# Study data files\n",
    "j_hopkins_path2020 = \"Happiness Data/TimeSeries2020.csv\"\n",
    "j_hopkins_path2021 = \"Happiness Data/TimeSeries2021.csv\"\n",
    "j_hopkins_path2022 = \"Happiness Data/TimeSeries2022.csv\"\n",
    "j_hopkins_path2023 = \"Happiness Data/TimeSeries2023.csv\"\n",
    "\n",
    "# Read the csv file\n",
    "covid_2020_df = pd.read_csv(j_hopkins_path2020)\n",
    "covid_2021_df = pd.read_csv(j_hopkins_path2021)\n",
    "covid_2022_df = pd.read_csv(j_hopkins_path2022)\n",
    "covid_2023_df = pd.read_csv(j_hopkins_path2023)\n",
    "\n",
    "#get the list of the columns\n",
    "\n",
    "#sum all the rows of each nation\n",
    "c_deaths_2020_df = covid_2020_df.sum(axis=1)\n",
    "\n",
    "print(c_deaths_2020_df.head(10))\n",
    "\n"
   ]
=======
    "\n"
   ]
  },
  {
   "attachments": {},
   "cell_type": "markdown",
   "metadata": {},
   "source": [
    "# Correlations of Happiness Score"
   ]
  },
  {
   "cell_type": "code",
   "execution_count": null,
   "metadata": {},
   "outputs": [],
   "source": []
>>>>>>> 3813aa8f7750d9cebaecec552cd18288d113d464
  }
 ],
 "metadata": {
  "kernelspec": {
<<<<<<< HEAD
   "display_name": "dev",
=======
   "display_name": "Python 3",
>>>>>>> 3813aa8f7750d9cebaecec552cd18288d113d464
   "language": "python",
   "name": "python3"
  },
  "language_info": {
   "codemirror_mode": {
    "name": "ipython",
    "version": 3
   },
   "file_extension": ".py",
   "mimetype": "text/x-python",
   "name": "python",
   "nbconvert_exporter": "python",
   "pygments_lexer": "ipython3",
<<<<<<< HEAD
   "version": "3.10.10"
=======
   "version": "3.10.1"
>>>>>>> 3813aa8f7750d9cebaecec552cd18288d113d464
  },
  "orig_nbformat": 4
 },
 "nbformat": 4,
 "nbformat_minor": 2
}
